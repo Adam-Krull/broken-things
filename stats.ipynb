{
 "cells": [
  {
   "cell_type": "code",
   "execution_count": 1,
   "id": "f4b52920",
   "metadata": {},
   "outputs": [],
   "source": [
    "#Imports\n",
    "import numpy as np\n",
    "import pandas as pd\n",
    "from scipy import stats\n",
    "import matplotlib.pyplot as plt"
   ]
  },
  {
   "cell_type": "code",
   "execution_count": 2,
   "id": "7e655e4a",
   "metadata": {},
   "outputs": [
    {
     "data": {
      "text/html": [
       "<div>\n",
       "<style scoped>\n",
       "    .dataframe tbody tr th:only-of-type {\n",
       "        vertical-align: middle;\n",
       "    }\n",
       "\n",
       "    .dataframe tbody tr th {\n",
       "        vertical-align: top;\n",
       "    }\n",
       "\n",
       "    .dataframe thead th {\n",
       "        text-align: right;\n",
       "    }\n",
       "</style>\n",
       "<table border=\"1\" class=\"dataframe\">\n",
       "  <thead>\n",
       "    <tr style=\"text-align: right;\">\n",
       "      <th></th>\n",
       "      <th>group_one</th>\n",
       "      <th>group_two</th>\n",
       "    </tr>\n",
       "  </thead>\n",
       "  <tbody>\n",
       "    <tr>\n",
       "      <th>0</th>\n",
       "      <td>4</td>\n",
       "      <td>7</td>\n",
       "    </tr>\n",
       "    <tr>\n",
       "      <th>1</th>\n",
       "      <td>5</td>\n",
       "      <td>4</td>\n",
       "    </tr>\n",
       "    <tr>\n",
       "      <th>2</th>\n",
       "      <td>2</td>\n",
       "      <td>5</td>\n",
       "    </tr>\n",
       "    <tr>\n",
       "      <th>3</th>\n",
       "      <td>3</td>\n",
       "      <td>9</td>\n",
       "    </tr>\n",
       "    <tr>\n",
       "      <th>4</th>\n",
       "      <td>6</td>\n",
       "      <td>7</td>\n",
       "    </tr>\n",
       "    <tr>\n",
       "      <th>5</th>\n",
       "      <td>6</td>\n",
       "      <td>6</td>\n",
       "    </tr>\n",
       "    <tr>\n",
       "      <th>6</th>\n",
       "      <td>8</td>\n",
       "      <td>8</td>\n",
       "    </tr>\n",
       "    <tr>\n",
       "      <th>7</th>\n",
       "      <td>4</td>\n",
       "      <td>5</td>\n",
       "    </tr>\n",
       "    <tr>\n",
       "      <th>8</th>\n",
       "      <td>3</td>\n",
       "      <td>7</td>\n",
       "    </tr>\n",
       "    <tr>\n",
       "      <th>9</th>\n",
       "      <td>2</td>\n",
       "      <td>6</td>\n",
       "    </tr>\n",
       "  </tbody>\n",
       "</table>\n",
       "</div>"
      ],
      "text/plain": [
       "   group_one  group_two\n",
       "0          4          7\n",
       "1          5          4\n",
       "2          2          5\n",
       "3          3          9\n",
       "4          6          7\n",
       "5          6          6\n",
       "6          8          8\n",
       "7          4          5\n",
       "8          3          7\n",
       "9          2          6"
      ]
     },
     "execution_count": 2,
     "metadata": {},
     "output_type": "execute_result"
    }
   ],
   "source": [
    "#Create dummy dataframe\n",
    "df = pd.DataFrame({'group_one': [4, 5, 2, 3, 6, 6, 8, 4, 3, 2],\n",
    "                   'group_two': [7, 4, 5, 9, 7, 6, 8, 5, 7, 6]})\n",
    "\n",
    "df"
   ]
  },
  {
   "cell_type": "code",
   "execution_count": 3,
   "id": "d73fbb2b",
   "metadata": {},
   "outputs": [
    {
     "data": {
      "text/plain": [
       "(array([1., 0., 2., 0., 2., 0., 3., 0., 1., 1.]),\n",
       " array([4. , 4.5, 5. , 5.5, 6. , 6.5, 7. , 7.5, 8. , 8.5, 9. ]),\n",
       " <BarContainer object of 10 artists>)"
      ]
     },
     "execution_count": 3,
     "metadata": {},
     "output_type": "execute_result"
    },
    {
     "data": {
      "image/png": "[encoded data removed]",
      "text/plain": [
       "<Figure size 432x288 with 1 Axes>"
      ]
     },
     "metadata": {
      "needs_background": "light"
     },
     "output_type": "display_data"
    }
   ],
   "source": [
    "#How can I remove the messy text above the chart?\n",
    "plt.hist(df['group_one'])\n",
    "plt.hist(df['group_two'])"
   ]
  },
  {
   "cell_type": "code",
   "execution_count": 4,
   "id": "ffe2cc96",
   "metadata": {},
   "outputs": [
    {
     "data": {
      "text/plain": [
       "(-3.4116412747654596, 0.0077295063200888865)"
      ]
     },
     "execution_count": 4,
     "metadata": {},
     "output_type": "execute_result"
    }
   ],
   "source": [
    "#Is this the correct test to use?\n",
    "t, p = stats.ttest_1samp(df['group_one'], df['group_two'].mean())\n",
    "t, p"
   ]
  },
  {
   "cell_type": "markdown",
   "id": "593660ee",
   "metadata": {},
   "source": [
    "Are these hypotheses correct?\n",
    "\n",
    "<b>Null hypothesis:</b> Group one has a distribution of smaller values than group two.  \n",
    "<b>Alternative hypothesis:</b> Group one has the same distribution of values as group two."
   ]
  },
  {
   "cell_type": "code",
   "execution_count": 5,
   "id": "31b07673",
   "metadata": {},
   "outputs": [
    {
     "data": {
      "text/plain": [
       "(-2.6986235023321523, 0.014694555432773941)"
      ]
     },
     "execution_count": 5,
     "metadata": {},
     "output_type": "execute_result"
    }
   ],
   "source": [
    "#Running the correct test for the data\n",
    "t, p = stats.ttest_ind(df['group_one'], df['group_two'])\n",
    "t, p"
   ]
  },
  {
   "cell_type": "code",
   "execution_count": 6,
   "id": "98fb63ae",
   "metadata": {},
   "outputs": [
    {
     "name": "stdout",
     "output_type": "stream",
     "text": [
      "We reject the null hypothesis.\n"
     ]
    }
   ],
   "source": [
    "#Am I interpreting the results correctly?\n",
    "alpha = 0.5\n",
    "\n",
    "if p < alpha:\n",
    "    print('We reject the null hypothesis.')\n",
    "else:\n",
    "    print('We fail to reject the null hypothesis.')"
   ]
  },
  {
   "cell_type": "code",
   "execution_count": 7,
   "id": "2417c1c6",
   "metadata": {},
   "outputs": [
    {
     "data": {
      "image/png": "[encoded data removed]",
      "text/plain": [
       "<Figure size 432x288 with 1 Axes>"
      ]
     },
     "metadata": {
      "needs_background": "light"
     },
     "output_type": "display_data"
    }
   ],
   "source": [
    "#Graph the data\n",
    "plt.scatter(df['group_one'], df['group_two'])\n",
    "plt.xlabel('Group one')\n",
    "plt.ylabel('Group two')\n",
    "plt.title('Groups one and two')\n",
    "plt.show()"
   ]
  },
  {
   "cell_type": "code",
   "execution_count": 8,
   "id": "163b3f69",
   "metadata": {},
   "outputs": [
    {
     "data": {
      "text/plain": [
       "(0.18199060308198098, 0.614821046147319)"
      ]
     },
     "execution_count": 8,
     "metadata": {},
     "output_type": "execute_result"
    }
   ],
   "source": [
    "#Running a correlation test\n",
    "r, p = stats.pearsonr(df['group_one'], df['group_two'])\n",
    "r, p"
   ]
  },
  {
   "cell_type": "markdown",
   "id": "bbaee73f",
   "metadata": {},
   "source": [
    "Is my takeaway accurate?\n",
    "\n",
    "Given the results of the statistical test, there appears to be some positive correlation between groups one and two."
   ]
  },
  {
   "cell_type": "code",
   "execution_count": 9,
   "id": "18264890",
   "metadata": {},
   "outputs": [
    {
     "data": {
      "text/html": [
       "<div>\n",
       "<style scoped>\n",
       "    .dataframe tbody tr th:only-of-type {\n",
       "        vertical-align: middle;\n",
       "    }\n",
       "\n",
       "    .dataframe tbody tr th {\n",
       "        vertical-align: top;\n",
       "    }\n",
       "\n",
       "    .dataframe thead th {\n",
       "        text-align: right;\n",
       "    }\n",
       "</style>\n",
       "<table border=\"1\" class=\"dataframe\">\n",
       "  <thead>\n",
       "    <tr style=\"text-align: right;\">\n",
       "      <th></th>\n",
       "      <th>group_one</th>\n",
       "      <th>group_two</th>\n",
       "      <th>group_one_big</th>\n",
       "      <th>group_two_small</th>\n",
       "    </tr>\n",
       "  </thead>\n",
       "  <tbody>\n",
       "    <tr>\n",
       "      <th>0</th>\n",
       "      <td>4</td>\n",
       "      <td>7</td>\n",
       "      <td>False</td>\n",
       "      <td>False</td>\n",
       "    </tr>\n",
       "    <tr>\n",
       "      <th>1</th>\n",
       "      <td>5</td>\n",
       "      <td>4</td>\n",
       "      <td>False</td>\n",
       "      <td>True</td>\n",
       "    </tr>\n",
       "    <tr>\n",
       "      <th>2</th>\n",
       "      <td>2</td>\n",
       "      <td>5</td>\n",
       "      <td>False</td>\n",
       "      <td>True</td>\n",
       "    </tr>\n",
       "    <tr>\n",
       "      <th>3</th>\n",
       "      <td>3</td>\n",
       "      <td>9</td>\n",
       "      <td>False</td>\n",
       "      <td>False</td>\n",
       "    </tr>\n",
       "    <tr>\n",
       "      <th>4</th>\n",
       "      <td>6</td>\n",
       "      <td>7</td>\n",
       "      <td>True</td>\n",
       "      <td>False</td>\n",
       "    </tr>\n",
       "    <tr>\n",
       "      <th>5</th>\n",
       "      <td>6</td>\n",
       "      <td>6</td>\n",
       "      <td>True</td>\n",
       "      <td>False</td>\n",
       "    </tr>\n",
       "    <tr>\n",
       "      <th>6</th>\n",
       "      <td>8</td>\n",
       "      <td>8</td>\n",
       "      <td>True</td>\n",
       "      <td>False</td>\n",
       "    </tr>\n",
       "    <tr>\n",
       "      <th>7</th>\n",
       "      <td>4</td>\n",
       "      <td>5</td>\n",
       "      <td>False</td>\n",
       "      <td>True</td>\n",
       "    </tr>\n",
       "    <tr>\n",
       "      <th>8</th>\n",
       "      <td>3</td>\n",
       "      <td>7</td>\n",
       "      <td>False</td>\n",
       "      <td>False</td>\n",
       "    </tr>\n",
       "    <tr>\n",
       "      <th>9</th>\n",
       "      <td>2</td>\n",
       "      <td>6</td>\n",
       "      <td>False</td>\n",
       "      <td>False</td>\n",
       "    </tr>\n",
       "  </tbody>\n",
       "</table>\n",
       "</div>"
      ],
      "text/plain": [
       "   group_one  group_two  group_one_big  group_two_small\n",
       "0          4          7          False            False\n",
       "1          5          4          False             True\n",
       "2          2          5          False             True\n",
       "3          3          9          False            False\n",
       "4          6          7           True            False\n",
       "5          6          6           True            False\n",
       "6          8          8           True            False\n",
       "7          4          5          False             True\n",
       "8          3          7          False            False\n",
       "9          2          6          False            False"
      ]
     },
     "execution_count": 9,
     "metadata": {},
     "output_type": "execute_result"
    }
   ],
   "source": [
    "#Creating some categorical columns\n",
    "df['group_one_big'] = df['group_one'] > 5\n",
    "df['group_two_small'] = df['group_two'] <= 5\n",
    "df"
   ]
  },
  {
   "cell_type": "code",
   "execution_count": 10,
   "id": "1f6fdc4d",
   "metadata": {},
   "outputs": [
    {
     "ename": "ValueError",
     "evalue": "The internally computed table of expected frequencies has a zero element at (0,).",
     "output_type": "error",
     "traceback": [
      "\u001b[0;31m---------------------------------------------------------------------------\u001b[0m",
      "\u001b[0;31mValueError\u001b[0m                                Traceback (most recent call last)",
      "Input \u001b[0;32mIn [10]\u001b[0m, in \u001b[0;36m<cell line: 2>\u001b[0;34m()\u001b[0m\n\u001b[1;32m      1\u001b[0m \u001b[38;5;66;03m#Running my chi2 test\u001b[39;00m\n\u001b[0;32m----> 2\u001b[0m chi2, p, degf, expected \u001b[38;5;241m=\u001b[39m \u001b[43mstats\u001b[49m\u001b[38;5;241;43m.\u001b[39;49m\u001b[43mchi2_contingency\u001b[49m\u001b[43m(\u001b[49m\u001b[43mdf\u001b[49m\u001b[43m[\u001b[49m\u001b[38;5;124;43m'\u001b[39;49m\u001b[38;5;124;43mgroup_one_big\u001b[39;49m\u001b[38;5;124;43m'\u001b[39;49m\u001b[43m]\u001b[49m\u001b[43m,\u001b[49m\u001b[43m \u001b[49m\u001b[43m[\u001b[49m\u001b[38;5;124;43m'\u001b[39;49m\u001b[38;5;124;43mgroup_two_small\u001b[39;49m\u001b[38;5;124;43m'\u001b[39;49m\u001b[43m]\u001b[49m\u001b[43m)\u001b[49m\n",
      "File \u001b[0;32m/opt/homebrew/anaconda3/lib/python3.9/site-packages/scipy/stats/contingency.py:276\u001b[0m, in \u001b[0;36mchi2_contingency\u001b[0;34m(observed, correction, lambda_)\u001b[0m\n\u001b[1;32m    272\u001b[0m \u001b[38;5;28;01mif\u001b[39;00m np\u001b[38;5;241m.\u001b[39many(expected \u001b[38;5;241m==\u001b[39m \u001b[38;5;241m0\u001b[39m):\n\u001b[1;32m    273\u001b[0m     \u001b[38;5;66;03m# Include one of the positions where expected is zero in\u001b[39;00m\n\u001b[1;32m    274\u001b[0m     \u001b[38;5;66;03m# the exception message.\u001b[39;00m\n\u001b[1;32m    275\u001b[0m     zeropos \u001b[38;5;241m=\u001b[39m \u001b[38;5;28mlist\u001b[39m(\u001b[38;5;28mzip\u001b[39m(\u001b[38;5;241m*\u001b[39mnp\u001b[38;5;241m.\u001b[39mnonzero(expected \u001b[38;5;241m==\u001b[39m \u001b[38;5;241m0\u001b[39m)))[\u001b[38;5;241m0\u001b[39m]\n\u001b[0;32m--> 276\u001b[0m     \u001b[38;5;28;01mraise\u001b[39;00m \u001b[38;5;167;01mValueError\u001b[39;00m(\u001b[38;5;124m\"\u001b[39m\u001b[38;5;124mThe internally computed table of expected \u001b[39m\u001b[38;5;124m\"\u001b[39m\n\u001b[1;32m    277\u001b[0m                      \u001b[38;5;124m\"\u001b[39m\u001b[38;5;124mfrequencies has a zero element at \u001b[39m\u001b[38;5;132;01m%s\u001b[39;00m\u001b[38;5;124m.\u001b[39m\u001b[38;5;124m\"\u001b[39m \u001b[38;5;241m%\u001b[39m (zeropos,))\n\u001b[1;32m    279\u001b[0m \u001b[38;5;66;03m# The degrees of freedom\u001b[39;00m\n\u001b[1;32m    280\u001b[0m dof \u001b[38;5;241m=\u001b[39m expected\u001b[38;5;241m.\u001b[39msize \u001b[38;5;241m-\u001b[39m \u001b[38;5;28msum\u001b[39m(expected\u001b[38;5;241m.\u001b[39mshape) \u001b[38;5;241m+\u001b[39m expected\u001b[38;5;241m.\u001b[39mndim \u001b[38;5;241m-\u001b[39m \u001b[38;5;241m1\u001b[39m\n",
      "\u001b[0;31mValueError\u001b[0m: The internally computed table of expected frequencies has a zero element at (0,)."
     ]
    }
   ],
   "source": [
    "#Running my chi2 test\n",
    "chi2, p, degf, expected = stats.chi2_contingency(df['group_one_big'], ['group_two_small'])"
   ]
  },
  {
   "cell_type": "code",
   "execution_count": null,
   "id": "d310c20d",
   "metadata": {},
   "outputs": [],
   "source": []
  }
 ],
 "metadata": {
  "kernelspec": {
   "display_name": "Python 3 (ipykernel)",
   "language": "python",
   "name": "python3"
  },
  "language_info": {
   "codemirror_mode": {
    "name": "ipython",
    "version": 3
   },
   "file_extension": ".py",
   "mimetype": "text/x-python",
   "name": "python",
   "nbconvert_exporter": "python",
   "pygments_lexer": "ipython3",
   "version": "3.9.12"
  }
 },
 "nbformat": 4,
 "nbformat_minor": 5
}
